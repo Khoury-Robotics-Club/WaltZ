{
 "cells": [
  {
   "cell_type": "code",
   "execution_count": 8,
   "id": "80de5746",
   "metadata": {},
   "outputs": [
    {
     "name": "stdout",
     "output_type": "stream",
     "text": [
      "Square root: 301.0398644698074\n",
      "(0.0, 300.0, 25.000000000000224)\n"
     ]
    }
   ],
   "source": [
    "import math\n",
    "from math import sin, cos, sqrt, pi\n",
    "\n",
    "# Lengths of the links\n",
    "L1 = 25\n",
    "L2 = 150\n",
    "L3 = 150\n",
    "\n",
    "def forwardKinematics(theta1, theta2, theta3):\n",
    "    y = L3 * sin(theta3 - theta2) + L2 * sin(theta2)\n",
    "    x = L2 * cos(theta3 - theta2) - L3 * cos(theta2)\n",
    "    t = sqrt(L1 ** 2 + y ** 2)\n",
    "    z = t * cos(pi / 2 - acos(y / t) - theta1)\n",
    "\n",
    "    return x, y, z\n",
    "\n",
    "# Define joint angles\n",
    "theta1 = 0\n",
    "theta2 = pi / 2\n",
    "theta3 = pi\n",
    "\n",
    "# Calculate forward kinematics\n",
    "x, y, z = forwardKinematics(theta1, theta2, theta3)\n",
    "\n",
    "# Try calculating the square root of the sum of x, y, and z\n",
    "try:\n",
    "    result = math.sqrt(x ** 2 + y ** 2 + z ** 2)\n",
    "    print(\"Square root:\", result)\n",
    "except ValueError as e:\n",
    "    print(\"Error:\", e)\n",
    "\n",
    "## Sanity testing code.\n",
    "if __name__ == \"__main__\":\n",
    "    print(forwardKinematics(0, pi/2, pi))\n"
   ]
  },
  {
   "cell_type": "code",
   "execution_count": null,
   "id": "0f989109",
   "metadata": {},
   "outputs": [],
   "source": []
  },
  {
   "cell_type": "code",
   "execution_count": null,
   "id": "6a6930c0",
   "metadata": {},
   "outputs": [],
   "source": []
  }
 ],
 "metadata": {
  "kernelspec": {
   "display_name": "Python 3 (ipykernel)",
   "language": "python",
   "name": "python3"
  },
  "language_info": {
   "codemirror_mode": {
    "name": "ipython",
    "version": 3
   },
   "file_extension": ".py",
   "mimetype": "text/x-python",
   "name": "python",
   "nbconvert_exporter": "python",
   "pygments_lexer": "ipython3",
   "version": "3.10.9"
  }
 },
 "nbformat": 4,
 "nbformat_minor": 5
}
